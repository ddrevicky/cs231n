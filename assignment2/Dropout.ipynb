{
 "cells": [
  {
   "cell_type": "markdown",
   "metadata": {},
   "source": [
    "# Dropout\n",
    "Dropout [1] is a technique for regularizing neural networks by randomly setting some features to zero during the forward pass. In this exercise you will implement a dropout layer and modify your fully-connected network to optionally use dropout.\n",
    "\n",
    "[1] Geoffrey E. Hinton et al, \"Improving neural networks by preventing co-adaptation of feature detectors\", arXiv 2012"
   ]
  },
  {
   "cell_type": "code",
   "execution_count": 1,
   "metadata": {},
   "outputs": [
    {
     "name": "stdout",
     "output_type": "stream",
     "text": [
      "run the following from the cs231n directory and try again:\n",
      "python setup.py build_ext --inplace\n",
      "You may also need to restart your iPython kernel\n"
     ]
    }
   ],
   "source": [
    "# As usual, a bit of setup\n",
    "from __future__ import print_function\n",
    "import time\n",
    "import numpy as np\n",
    "import matplotlib.pyplot as plt\n",
    "from cs231n.classifiers.fc_net import *\n",
    "from cs231n.data_utils import get_CIFAR10_data\n",
    "from cs231n.gradient_check import eval_numerical_gradient, eval_numerical_gradient_array\n",
    "from cs231n.solver import Solver\n",
    "\n",
    "%matplotlib inline\n",
    "plt.rcParams['figure.figsize'] = (10.0, 8.0) # set default size of plots\n",
    "plt.rcParams['image.interpolation'] = 'nearest'\n",
    "plt.rcParams['image.cmap'] = 'gray'\n",
    "\n",
    "# for auto-reloading external modules\n",
    "# see http://stackoverflow.com/questions/1907993/autoreload-of-modules-in-ipython\n",
    "%load_ext autoreload\n",
    "%autoreload 2\n",
    "\n",
    "def rel_error(x, y):\n",
    "  \"\"\" returns relative error \"\"\"\n",
    "  return np.max(np.abs(x - y) / (np.maximum(1e-8, np.abs(x) + np.abs(y))))"
   ]
  },
  {
   "cell_type": "code",
   "execution_count": 2,
   "metadata": {},
   "outputs": [
    {
     "name": "stdout",
     "output_type": "stream",
     "text": [
      "X_train:  (49000, 3, 32, 32)\n",
      "y_train:  (49000,)\n",
      "X_val:  (1000, 3, 32, 32)\n",
      "y_val:  (1000,)\n",
      "X_test:  (1000, 3, 32, 32)\n",
      "y_test:  (1000,)\n"
     ]
    }
   ],
   "source": [
    "# Load the (preprocessed) CIFAR10 data.\n",
    "\n",
    "data = get_CIFAR10_data()\n",
    "for k, v in data.items():\n",
    "  print('%s: ' % k, v.shape)"
   ]
  },
  {
   "cell_type": "markdown",
   "metadata": {},
   "source": [
    "# Dropout forward pass\n",
    "In the file `cs231n/layers.py`, implement the forward pass for dropout. Since dropout behaves differently during training and testing, make sure to implement the operation for both modes.\n",
    "\n",
    "Once you have done so, run the cell below to test your implementation."
   ]
  },
  {
   "cell_type": "code",
   "execution_count": 3,
   "metadata": {},
   "outputs": [
    {
     "name": "stdout",
     "output_type": "stream",
     "text": [
      "Running tests with p =  0.3\n",
      "Mean of input:  10.0002078785\n",
      "Mean of train-time output:  9.98526577052\n",
      "Mean of test-time output:  10.0002078785\n",
      "Fraction of train-time output set to zero:  0.300876\n",
      "Fraction of test-time output set to zero:  0.0\n",
      "\n",
      "Running tests with p =  0.6\n",
      "Mean of input:  10.0002078785\n",
      "Mean of train-time output:  10.035153558\n",
      "Mean of test-time output:  10.0002078785\n",
      "Fraction of train-time output set to zero:  0.598632\n",
      "Fraction of test-time output set to zero:  0.0\n",
      "\n",
      "Running tests with p =  0.75\n",
      "Mean of input:  10.0002078785\n",
      "Mean of train-time output:  10.0216257491\n",
      "Mean of test-time output:  10.0002078785\n",
      "Fraction of train-time output set to zero:  0.749504\n",
      "Fraction of test-time output set to zero:  0.0\n",
      "\n"
     ]
    }
   ],
   "source": [
    "np.random.seed(231)\n",
    "x = np.random.randn(500, 500) + 10\n",
    "\n",
    "for p in [0.3, 0.6, 0.75]:\n",
    "  out, _ = dropout_forward(x, {'mode': 'train', 'p': p})\n",
    "  out_test, _ = dropout_forward(x, {'mode': 'test', 'p': p})\n",
    "\n",
    "  print('Running tests with p = ', p)\n",
    "  print('Mean of input: ', x.mean())\n",
    "  print('Mean of train-time output: ', out.mean())\n",
    "  print('Mean of test-time output: ', out_test.mean())\n",
    "  print('Fraction of train-time output set to zero: ', (out == 0).mean())\n",
    "  print('Fraction of test-time output set to zero: ', (out_test == 0).mean())\n",
    "  print()"
   ]
  },
  {
   "cell_type": "markdown",
   "metadata": {},
   "source": [
    "# Dropout backward pass\n",
    "In the file `cs231n/layers.py`, implement the backward pass for dropout. After doing so, run the following cell to numerically gradient-check your implementation."
   ]
  },
  {
   "cell_type": "code",
   "execution_count": 4,
   "metadata": {},
   "outputs": [
    {
     "name": "stdout",
     "output_type": "stream",
     "text": [
      "dx relative error:  1.89290486527e-11\n"
     ]
    }
   ],
   "source": [
    "np.random.seed(231)\n",
    "x = np.random.randn(10, 10) + 10\n",
    "dout = np.random.randn(*x.shape)\n",
    "\n",
    "dropout_param = {'mode': 'train', 'p': 0.8, 'seed': 123}\n",
    "out, cache = dropout_forward(x, dropout_param)\n",
    "dx = dropout_backward(dout, cache)\n",
    "dx_num = eval_numerical_gradient_array(lambda xx: dropout_forward(xx, dropout_param)[0], x, dout)\n",
    "\n",
    "print('dx relative error: ', rel_error(dx, dx_num))"
   ]
  },
  {
   "cell_type": "markdown",
   "metadata": {},
   "source": [
    "# Fully-connected nets with Dropout\n",
    "In the file `cs231n/classifiers/fc_net.py`, modify your implementation to use dropout. Specificially, if the constructor the the net receives a nonzero value for the `dropout` parameter, then the net should add dropout immediately after every ReLU nonlinearity. After doing so, run the following to numerically gradient-check your implementation."
   ]
  },
  {
   "cell_type": "code",
   "execution_count": 7,
   "metadata": {},
   "outputs": [
    {
     "name": "stdout",
     "output_type": "stream",
     "text": [
      "Running check with dropout =  0\n",
      "Initial loss:  2.30047908977\n",
      "W1 relative error: 1.48e-07\n",
      "W2 relative error: 2.21e-05\n",
      "W3 relative error: 3.53e-07\n",
      "b1 relative error: 5.38e-09\n",
      "b2 relative error: 2.09e-09\n",
      "b3 relative error: 5.80e-11\n",
      "\n",
      "Running check with dropout =  0.25\n",
      "Initial loss:  2.30486921512\n",
      "W1 relative error: 2.47e-07\n",
      "W2 relative error: 1.69e-06\n",
      "W3 relative error: 8.70e-07\n",
      "b1 relative error: 7.84e-09\n",
      "b2 relative error: 6.85e-09\n",
      "b3 relative error: 1.13e-10\n",
      "\n",
      "Running check with dropout =  0.5\n",
      "Initial loss:  2.31013690872\n",
      "W1 relative error: 2.57e-08\n",
      "W2 relative error: 1.49e-08\n",
      "W3 relative error: 4.49e-08\n",
      "b1 relative error: 1.35e-09\n",
      "b2 relative error: 1.91e-09\n",
      "b3 relative error: 9.51e-11\n",
      "\n"
     ]
    }
   ],
   "source": [
    "np.random.seed(231)\n",
    "N, D, H1, H2, C = 2, 15, 20, 30, 10\n",
    "X = np.random.randn(N, D)\n",
    "y = np.random.randint(C, size=(N,))\n",
    "\n",
    "for dropout in [0, 0.25, 0.5]:\n",
    "  print('Running check with dropout = ', dropout)\n",
    "  model = FullyConnectedNet([H1, H2], input_dim=D, num_classes=C,\n",
    "                            weight_scale=5e-2, dtype=np.float64,\n",
    "                            dropout=dropout, seed=123)\n",
    "\n",
    "  loss, grads = model.loss(X, y)\n",
    "  print('Initial loss: ', loss)\n",
    "\n",
    "  for name in sorted(grads):\n",
    "    f = lambda _: model.loss(X, y)[0]\n",
    "    grad_num = eval_numerical_gradient(f, model.params[name], verbose=False, h=1e-5)\n",
    "    print('%s relative error: %.2e' % (name, rel_error(grad_num, grads[name])))\n",
    "  print()"
   ]
  },
  {
   "cell_type": "markdown",
   "metadata": {},
   "source": [
    "# Regularization experiment\n",
    "As an experiment, we will train a pair of two-layer networks on 500 training examples: one will use no dropout, and one will use a dropout probability of 0.75. We will then visualize the training and validation accuracies of the two networks over time."
   ]
  },
  {
   "cell_type": "code",
   "execution_count": 12,
   "metadata": {
    "scrolled": false
   },
   "outputs": [
    {
     "name": "stdout",
     "output_type": "stream",
     "text": [
      "0\n",
      "(Iteration 1 / 800) loss: 8.044843\n",
      "(Epoch 0 / 40) train acc: 0.183000; val_acc: 0.161000\n",
      "(Epoch 1 / 40) train acc: 0.391000; val_acc: 0.310000\n",
      "(Epoch 2 / 40) train acc: 0.519000; val_acc: 0.310000\n",
      "(Epoch 3 / 40) train acc: 0.630000; val_acc: 0.313000\n",
      "(Epoch 4 / 40) train acc: 0.676000; val_acc: 0.330000\n",
      "(Epoch 5 / 40) train acc: 0.666000; val_acc: 0.318000\n",
      "(Iteration 101 / 800) loss: 3.740013\n",
      "(Epoch 6 / 40) train acc: 0.731000; val_acc: 0.328000\n",
      "(Epoch 7 / 40) train acc: 0.778000; val_acc: 0.327000\n",
      "(Epoch 8 / 40) train acc: 0.870000; val_acc: 0.358000\n",
      "(Epoch 9 / 40) train acc: 0.837000; val_acc: 0.329000\n",
      "(Epoch 10 / 40) train acc: 0.852000; val_acc: 0.376000\n",
      "(Iteration 201 / 800) loss: 0.953860\n",
      "(Epoch 11 / 40) train acc: 0.874000; val_acc: 0.355000\n",
      "(Epoch 12 / 40) train acc: 0.810000; val_acc: 0.314000\n",
      "(Epoch 13 / 40) train acc: 0.796000; val_acc: 0.308000\n",
      "(Epoch 14 / 40) train acc: 0.828000; val_acc: 0.356000\n",
      "(Epoch 15 / 40) train acc: 0.812000; val_acc: 0.342000\n",
      "(Iteration 301 / 800) loss: 1.440144\n",
      "(Epoch 16 / 40) train acc: 0.892000; val_acc: 0.341000\n",
      "(Epoch 17 / 40) train acc: 0.898000; val_acc: 0.360000\n",
      "(Epoch 18 / 40) train acc: 0.851000; val_acc: 0.317000\n",
      "(Epoch 19 / 40) train acc: 0.915000; val_acc: 0.334000\n",
      "(Epoch 20 / 40) train acc: 0.959000; val_acc: 0.361000\n",
      "(Iteration 401 / 800) loss: 0.239988\n",
      "(Epoch 21 / 40) train acc: 0.892000; val_acc: 0.321000\n",
      "(Epoch 22 / 40) train acc: 0.938000; val_acc: 0.338000\n",
      "(Epoch 23 / 40) train acc: 0.938000; val_acc: 0.377000\n",
      "(Epoch 24 / 40) train acc: 0.928000; val_acc: 0.362000\n",
      "(Epoch 25 / 40) train acc: 0.931000; val_acc: 0.341000\n",
      "(Iteration 501 / 800) loss: 0.288386\n",
      "(Epoch 26 / 40) train acc: 0.928000; val_acc: 0.345000\n",
      "(Epoch 27 / 40) train acc: 0.932000; val_acc: 0.363000\n",
      "(Epoch 28 / 40) train acc: 0.932000; val_acc: 0.355000\n",
      "(Epoch 29 / 40) train acc: 0.905000; val_acc: 0.345000\n",
      "(Epoch 30 / 40) train acc: 0.905000; val_acc: 0.349000\n",
      "(Iteration 601 / 800) loss: 0.529414\n",
      "(Epoch 31 / 40) train acc: 0.906000; val_acc: 0.348000\n",
      "(Epoch 32 / 40) train acc: 0.922000; val_acc: 0.342000\n",
      "(Epoch 33 / 40) train acc: 0.917000; val_acc: 0.347000\n",
      "(Epoch 34 / 40) train acc: 0.917000; val_acc: 0.336000\n",
      "(Epoch 35 / 40) train acc: 0.832000; val_acc: 0.329000\n",
      "(Iteration 701 / 800) loss: 0.947929\n",
      "(Epoch 36 / 40) train acc: 0.884000; val_acc: 0.332000\n",
      "(Epoch 37 / 40) train acc: 0.914000; val_acc: 0.348000\n",
      "(Epoch 38 / 40) train acc: 0.900000; val_acc: 0.353000\n",
      "(Epoch 39 / 40) train acc: 0.914000; val_acc: 0.346000\n",
      "(Epoch 40 / 40) train acc: 0.908000; val_acc: 0.330000\n",
      "0.75\n",
      "(Iteration 1 / 800) loss: 17.277618\n",
      "(Epoch 0 / 40) train acc: 0.186000; val_acc: 0.166000\n",
      "(Epoch 1 / 40) train acc: 0.340000; val_acc: 0.292000\n",
      "(Epoch 2 / 40) train acc: 0.477000; val_acc: 0.335000\n",
      "(Epoch 3 / 40) train acc: 0.441000; val_acc: 0.334000\n",
      "(Epoch 4 / 40) train acc: 0.533000; val_acc: 0.351000\n",
      "(Epoch 5 / 40) train acc: 0.521000; val_acc: 0.336000\n",
      "(Iteration 101 / 800) loss: 9.547965\n",
      "(Epoch 6 / 40) train acc: 0.492000; val_acc: 0.340000\n",
      "(Epoch 7 / 40) train acc: 0.525000; val_acc: 0.349000\n",
      "(Epoch 8 / 40) train acc: 0.533000; val_acc: 0.312000\n",
      "(Epoch 9 / 40) train acc: 0.601000; val_acc: 0.343000\n",
      "(Epoch 10 / 40) train acc: 0.624000; val_acc: 0.359000\n",
      "(Iteration 201 / 800) loss: 6.561962\n",
      "(Epoch 11 / 40) train acc: 0.592000; val_acc: 0.350000\n",
      "(Epoch 12 / 40) train acc: 0.590000; val_acc: 0.343000\n",
      "(Epoch 13 / 40) train acc: 0.633000; val_acc: 0.360000\n",
      "(Epoch 14 / 40) train acc: 0.640000; val_acc: 0.333000\n",
      "(Epoch 15 / 40) train acc: 0.656000; val_acc: 0.348000\n",
      "(Iteration 301 / 800) loss: 2.964289\n",
      "(Epoch 16 / 40) train acc: 0.674000; val_acc: 0.358000\n",
      "(Epoch 17 / 40) train acc: 0.644000; val_acc: 0.367000\n",
      "(Epoch 18 / 40) train acc: 0.642000; val_acc: 0.371000\n",
      "(Epoch 19 / 40) train acc: 0.695000; val_acc: 0.344000\n",
      "(Epoch 20 / 40) train acc: 0.662000; val_acc: 0.371000\n",
      "(Iteration 401 / 800) loss: 2.757788\n",
      "(Epoch 21 / 40) train acc: 0.664000; val_acc: 0.353000\n",
      "(Epoch 22 / 40) train acc: 0.670000; val_acc: 0.345000\n",
      "(Epoch 23 / 40) train acc: 0.671000; val_acc: 0.361000\n",
      "(Epoch 24 / 40) train acc: 0.643000; val_acc: 0.330000\n",
      "(Epoch 25 / 40) train acc: 0.689000; val_acc: 0.368000\n",
      "(Iteration 501 / 800) loss: 2.888641\n",
      "(Epoch 26 / 40) train acc: 0.678000; val_acc: 0.336000\n",
      "(Epoch 27 / 40) train acc: 0.709000; val_acc: 0.346000\n",
      "(Epoch 28 / 40) train acc: 0.659000; val_acc: 0.363000\n",
      "(Epoch 29 / 40) train acc: 0.672000; val_acc: 0.340000\n",
      "(Epoch 30 / 40) train acc: 0.660000; val_acc: 0.342000\n",
      "(Iteration 601 / 800) loss: 3.866673\n",
      "(Epoch 31 / 40) train acc: 0.655000; val_acc: 0.352000\n",
      "(Epoch 32 / 40) train acc: 0.593000; val_acc: 0.312000\n",
      "(Epoch 33 / 40) train acc: 0.677000; val_acc: 0.346000\n",
      "(Epoch 34 / 40) train acc: 0.660000; val_acc: 0.342000\n",
      "(Epoch 35 / 40) train acc: 0.668000; val_acc: 0.334000\n",
      "(Iteration 701 / 800) loss: 3.594842\n",
      "(Epoch 36 / 40) train acc: 0.672000; val_acc: 0.337000\n",
      "(Epoch 37 / 40) train acc: 0.666000; val_acc: 0.371000\n",
      "(Epoch 38 / 40) train acc: 0.662000; val_acc: 0.342000\n",
      "(Epoch 39 / 40) train acc: 0.727000; val_acc: 0.333000\n",
      "(Epoch 40 / 40) train acc: 0.658000; val_acc: 0.352000\n"
     ]
    }
   ],
   "source": [
    "# Train two identical nets, one with dropout and one without\n",
    "np.random.seed(231)\n",
    "num_train = 2000\n",
    "small_data = {\n",
    "  'X_train': data['X_train'][:num_train],\n",
    "  'y_train': data['y_train'][:num_train],\n",
    "  'X_val': data['X_val'],\n",
    "  'y_val': data['y_val'],\n",
    "}\n",
    "\n",
    "solvers = {}\n",
    "dropout_choices = [0, 0.75]\n",
    "for dropout in dropout_choices:\n",
    "  model = FullyConnectedNet([500], dropout=dropout)\n",
    "  print(dropout)\n",
    "\n",
    "  solver = Solver(model, small_data,\n",
    "                  num_epochs=40, batch_size=100,\n",
    "                  update_rule='adam',\n",
    "                  optim_config={\n",
    "                    'learning_rate': 5e-4,\n",
    "                  },\n",
    "                  verbose=True, print_every=100)\n",
    "  solver.train()\n",
    "  solvers[dropout] = solver"
   ]
  },
  {
   "cell_type": "code",
   "execution_count": 13,
   "metadata": {},
   "outputs": [
    {
     "data": {
      "image/png": "[encoded data removed]",
      "text/plain": [
       "<matplotlib.figure.Figure at 0x7fc8440dfb00>"
      ]
     },
     "metadata": {},
     "output_type": "display_data"
    }
   ],
   "source": [
    "# Plot train and validation accuracies of the two models\n",
    "\n",
    "train_accs = []\n",
    "val_accs = []\n",
    "for dropout in dropout_choices:\n",
    "  solver = solvers[dropout]\n",
    "  train_accs.append(solver.train_acc_history[-1])\n",
    "  val_accs.append(solver.val_acc_history[-1])\n",
    "\n",
    "plt.subplot(3, 1, 1)\n",
    "for dropout in dropout_choices:\n",
    "  plt.plot(solvers[dropout].train_acc_history, 'o', label='%.2f dropout' % dropout)\n",
    "plt.title('Train accuracy')\n",
    "plt.xlabel('Epoch')\n",
    "plt.ylabel('Accuracy')\n",
    "plt.legend(ncol=2, loc='lower right')\n",
    "  \n",
    "plt.subplot(3, 1, 2)\n",
    "for dropout in dropout_choices:\n",
    "  plt.plot(solvers[dropout].val_acc_history, 'o', label='%.2f dropout' % dropout)\n",
    "plt.title('Val accuracy')\n",
    "plt.xlabel('Epoch')\n",
    "plt.ylabel('Accuracy')\n",
    "plt.legend(ncol=2, loc='lower right')\n",
    "\n",
    "plt.gcf().set_size_inches(15, 15)\n",
    "plt.show()"
   ]
  },
  {
   "cell_type": "markdown",
   "metadata": {},
   "source": [
    "# Question\n",
    "Explain what you see in this experiment. What does it suggest about dropout?"
   ]
  },
  {
   "cell_type": "markdown",
   "metadata": {},
   "source": [
    "# Answer\n",
    "The network which uses dropout has consistently lower training accuracy during the course of the training than the network without dropout. Validation accuracy is comparable however for both models. It seems to oscilate less for the model using dropout. Since dropout decreases the gap between the training and validation accuracy if plotted together, it acts as a regularizer for the network."
   ]
  }
 ],
 "metadata": {
  "kernelspec": {
   "display_name": "Python 3",
   "language": "python",
   "name": "python3"
  },
  "language_info": {
   "codemirror_mode": {
    "name": "ipython",
    "version": 3
   },
   "file_extension": ".py",
   "mimetype": "text/x-python",
   "name": "python",
   "nbconvert_exporter": "python",
   "pygments_lexer": "ipython3",
   "version": "3.6.1"
  }
 },
 "nbformat": 4,
 "nbformat_minor": 1
}
